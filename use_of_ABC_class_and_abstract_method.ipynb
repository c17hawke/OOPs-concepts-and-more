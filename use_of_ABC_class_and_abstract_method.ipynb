{
  "nbformat": 4,
  "nbformat_minor": 0,
  "metadata": {
    "colab": {
      "name": "use of ABC class and abstract method",
      "provenance": [],
      "collapsed_sections": [],
      "authorship_tag": "ABX9TyM1P0jGtHLoCiklKSNW5Hi/",
      "include_colab_link": true
    },
    "kernelspec": {
      "name": "python3",
      "display_name": "Python 3"
    }
  },
  "cells": [
    {
      "cell_type": "markdown",
      "metadata": {
        "id": "view-in-github",
        "colab_type": "text"
      },
      "source": [
        "<a href=\"https://colab.research.google.com/github/c17hawke/OOPs-concepts-and-more/blob/master/use_of_ABC_class_and_abstract_method.ipynb\" target=\"_parent\"><img src=\"https://colab.research.google.com/assets/colab-badge.svg\" alt=\"Open In Colab\"/></a>"
      ]
    },
    {
      "cell_type": "code",
      "metadata": {
        "id": "7XTc5bKT5NhD",
        "colab_type": "code",
        "colab": {}
      },
      "source": [
        "from abc import ABC, abstractmethod"
      ],
      "execution_count": 0,
      "outputs": []
    },
    {
      "cell_type": "code",
      "metadata": {
        "id": "mphy4qG8xdpo",
        "colab_type": "code",
        "colab": {}
      },
      "source": [
        "class MyParents(ABC):\n",
        "    @abstractmethod\n",
        "    def engineering(self): \n",
        "        pass"
      ],
      "execution_count": 0,
      "outputs": []
    },
    {
      "cell_type": "markdown",
      "metadata": {
        "id": "QOb_-7th16n8",
        "colab_type": "text"
      },
      "source": [
        "### Defining child class **without** abstractmethod -"
      ]
    },
    {
      "cell_type": "code",
      "metadata": {
        "id": "yf8YRUpVxs7U",
        "colab_type": "code",
        "colab": {}
      },
      "source": [
        "class ThisIsMe(MyParents):\n",
        "    def __init__(self, myDreams):\n",
        "        self.myDreams = myDreams\n",
        "\n",
        "    def photographer(self):\n",
        "        print(f\"I want to follow my dreams my passion and i.e to become a {myDreams}\")"
      ],
      "execution_count": 0,
      "outputs": []
    },
    {
      "cell_type": "code",
      "metadata": {
        "id": "_Nd0nKJ5yBwA",
        "colab_type": "code",
        "colab": {
          "base_uri": "https://localhost:8080/",
          "height": 34
        },
        "outputId": "f56d88b6-f1e7-45fe-c732-2c2c19169b1a"
      },
      "source": [
        "try:\n",
        "    Sunny = ThisIsMe(\"Photographer\")\n",
        "    Sunny.photographer()\n",
        "except:\n",
        "    print(\"ERROR: first do engineering. That's compulsory\")"
      ],
      "execution_count": 4,
      "outputs": [
        {
          "output_type": "stream",
          "text": [
            "ERROR: first do engineering. That's compulsory\n"
          ],
          "name": "stdout"
        }
      ]
    },
    {
      "cell_type": "markdown",
      "metadata": {
        "id": "_V7xeFOh2DkC",
        "colab_type": "text"
      },
      "source": [
        "### Defining child class **with** abstractmethod which was compulsory-"
      ]
    },
    {
      "cell_type": "code",
      "metadata": {
        "id": "94aq-61pyFku",
        "colab_type": "code",
        "colab": {}
      },
      "source": [
        "class RealMe(MyParents):\n",
        "    def __init__(self, myDreams):\n",
        "        self.myDreams = myDreams\n",
        "\n",
        "    def photographer(self):\n",
        "        print(f\"I can only follow my passion- {self.myDreams} after engineering\")\n",
        "\n",
        "    def engineering(self):\n",
        "        print(\"Whatever my dream was I had to do ENGINEERING!!! This was non negotiable\")"
      ],
      "execution_count": 0,
      "outputs": []
    },
    {
      "cell_type": "code",
      "metadata": {
        "id": "378UjzgpybHR",
        "colab_type": "code",
        "colab": {
          "base_uri": "https://localhost:8080/",
          "height": 51
        },
        "outputId": "6bbcdb13-3f38-41f6-d76a-355da9523aef"
      },
      "source": [
        "realSunny = RealMe(\"Photgraphy\")\n",
        "realSunny.engineering()\n",
        "realSunny.photographer()"
      ],
      "execution_count": 6,
      "outputs": [
        {
          "output_type": "stream",
          "text": [
            "Whatever my dream was I had to do ENGINEERING!!! This was non negotiable\n",
            "I can only follow my passion- Photgraphy after engineering\n"
          ],
          "name": "stdout"
        }
      ]
    },
    {
      "cell_type": "code",
      "metadata": {
        "id": "CFUOixnXydsu",
        "colab_type": "code",
        "colab": {}
      },
      "source": [
        ""
      ],
      "execution_count": 0,
      "outputs": []
    }
  ]
}